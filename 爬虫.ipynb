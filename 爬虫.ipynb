{
 "cells": [
  {
   "cell_type": "code",
   "execution_count": 29,
   "metadata": {
    "execution": {
     "iopub.execute_input": "2023-05-01T13:24:10.586852Z",
     "iopub.status.busy": "2023-05-01T13:24:10.586245Z",
     "iopub.status.idle": "2023-05-01T13:24:16.123316Z",
     "shell.execute_reply": "2023-05-01T13:24:16.122448Z",
     "shell.execute_reply.started": "2023-05-01T13:24:10.586822Z"
    },
    "scrolled": true,
    "tags": []
   },
   "outputs": [],
   "source": [
    "import pandas as pd \r\n",
    "list1=[\"57411\",\"57500\",\"57305\",\"57864\",\"57604\",\"125976\",\"57354\",\"57378\",\"58001\",\"126026\",\"57328\",\r\n",
    "\"57534\",\"57229\",\"58024\",\"57823\"]\r\n",
    "for i in list1:\r\n",
    "    df = pd.DataFrame() #每个元素都有一个新的dataframe\r\n",
    "    for j in range(1,5):\r\n",
    "        url1 = 'https://xl.16888.com/b/{}-{}.html'.format(i,j)\r\n",
    "        data = pd.read_html(url1)[0]  #0表示网页中的第一个Table\r\n",
    "        df = df.append(data)\r\n",
    "        df.drop_duplicates(inplace=True)#删除重复记录\r\n",
    "    df.to_excel('{}_汽车销量.xlsx'.format(i),index=0) #每个元素都有一个新的Excel文件"
   ]
  }
 ],
 "metadata": {
  "kernelspec": {
   "display_name": "Python 3",
   "language": "python",
   "name": "py35-paddle1.2.0"
  },
  "language_info": {
   "codemirror_mode": {
    "name": "ipython",
    "version": 3
   },
   "file_extension": ".py",
   "mimetype": "text/x-python",
   "name": "python",
   "nbconvert_exporter": "python",
   "pygments_lexer": "ipython3",
   "version": "3.9.16"
  }
 },
 "nbformat": 4,
 "nbformat_minor": 4
}
